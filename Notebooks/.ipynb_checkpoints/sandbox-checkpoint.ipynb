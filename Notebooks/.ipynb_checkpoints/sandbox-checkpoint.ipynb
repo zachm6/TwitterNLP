{
 "cells": [
  {
   "cell_type": "markdown",
   "metadata": {},
   "source": [
    "# Automate cleaning tweets to make it suitable for nlp"
   ]
  },
  {
   "cell_type": "code",
   "execution_count": 8,
   "metadata": {},
   "outputs": [],
   "source": [
    "import pandas as pd\n",
    "import preprocessor as p"
   ]
  },
  {
   "cell_type": "code",
   "execution_count": 5,
   "metadata": {},
   "outputs": [],
   "source": [
    "df_old = pd.read_csv(\"../beforePreProcessing_v1.csv\")"
   ]
  },
  {
   "cell_type": "code",
   "execution_count": 3,
   "metadata": {},
   "outputs": [
    {
     "data": {
      "text/plain": [
       "(1027, 12)"
      ]
     },
     "execution_count": 3,
     "metadata": {},
     "output_type": "execute_result"
    }
   ],
   "source": [
    "df.shape"
   ]
  },
  {
   "cell_type": "code",
   "execution_count": 7,
   "metadata": {},
   "outputs": [
    {
     "data": {
      "text/plain": [
       "'Most mentioned symbols (7D):\\n\\n1st $NVDA 91\\n2nd $TSLA 65\\n3rd $AAPL 59\\n4th $AI 58\\n5th $SPY 56\\n6th $QQQ 44\\n7th $MSFT 44\\n8th $SPX 37\\n9th $META 34\\n10th $AMD 32\\nhttps://t.co/KxW3EJLbYD'"
      ]
     },
     "execution_count": 7,
     "metadata": {},
     "output_type": "execute_result"
    }
   ],
   "source": [
    "df_old.iloc[1][\"text\"]"
   ]
  },
  {
   "cell_type": "code",
   "execution_count": 11,
   "metadata": {},
   "outputs": [
    {
     "data": {
      "text/plain": [
       "'Most mentioned symbols (7D):1st $NVDA nd $TSLA rd $AAPL th $AI th $SPY th $QQQ th $MSFT th $SPX th $META th $AMD'"
      ]
     },
     "execution_count": 11,
     "metadata": {},
     "output_type": "execute_result"
    }
   ],
   "source": [
    "p.clean(df_old.iloc[1][\"text\"])"
   ]
  },
  {
   "cell_type": "code",
   "execution_count": 14,
   "metadata": {},
   "outputs": [
    {
     "data": {
      "text/plain": [
       "1     Most mentioned symbols (7D):\\n\\n1st $NVDA 91\\n...\n",
       "2     Most mentioned symbols (7D):\\n\\n1st $NVDA 91\\n...\n",
       "3     Putting $25,000 dollars into this $PSYOP , thi...\n",
       "4     Best trade I made in a long time. Easy play on...\n",
       "5     ALWAYS zoom out the chart to see what’s really...\n",
       "6     Check out our subscriber alerts in our discord...\n",
       "7     Check out our subscriber alerts in our discord...\n",
       "8     Messi's farewell! PSG's era comes to an end as...\n",
       "9     Follow us to get instant updates and free trad...\n",
       "10    Follow us to get instant updates and free trad...\n",
       "11    Discover Microsoft #Cloud for #Healthcare - fr...\n",
       "12    Putting $10,000 dollars into this $PSYOP , thi...\n",
       "13    STOCK TRADING ADVICE FROM OUR FREE TRADING DIS...\n",
       "14    We’re teaming up with Contact Energy to accele...\n",
       "Name: text, dtype: object"
      ]
     },
     "execution_count": 14,
     "metadata": {},
     "output_type": "execute_result"
    }
   ],
   "source": [
    "df_old.iloc[1:15][\"text\"]"
   ]
  },
  {
   "cell_type": "code",
   "execution_count": 15,
   "metadata": {},
   "outputs": [
    {
     "data": {
      "text/plain": [
       "Index(['Unnamed: 0', 'id', 'symbol', 'text', 'start', 'end', 'retweet_count',\n",
       "       'reply_count', 'like_count', 'quote_count', 'impression_count',\n",
       "       'created_at', 'username', 'followers_count', 'following_count',\n",
       "       'tweet_count', 'listed_count'],\n",
       "      dtype='object')"
      ]
     },
     "execution_count": 15,
     "metadata": {},
     "output_type": "execute_result"
    }
   ],
   "source": [
    "df_old.columns"
   ]
  },
  {
   "cell_type": "markdown",
   "metadata": {},
   "source": [
    "## Pagination"
   ]
  },
  {
   "cell_type": "code",
   "execution_count": 13,
   "metadata": {},
   "outputs": [],
   "source": [
    "import tweepy\n",
    "import config\n",
    "import datetime"
   ]
  },
  {
   "cell_type": "code",
   "execution_count": 14,
   "metadata": {},
   "outputs": [],
   "source": [
    "auth = tweepy.Client(\n",
    "    bearer_token=config.BEARER_TOKEN,  \n",
    "    consumer_key=config.API_KEY, \n",
    "    consumer_secret=config.API_KEY_SECRET, \n",
    "    access_token=config.ACCESS_TOKEN, \n",
    "    access_token_secret=config.ACCESS_TOKEN_SECRET\n",
    ")"
   ]
  },
  {
   "cell_type": "code",
   "execution_count": 15,
   "metadata": {},
   "outputs": [
    {
     "ename": "NameError",
     "evalue": "name 'hour' is not defined",
     "output_type": "error",
     "traceback": [
      "\u001b[0;31m---------------------------------------------------------------------------\u001b[0m",
      "\u001b[0;31mNameError\u001b[0m                                 Traceback (most recent call last)",
      "Cell \u001b[0;32mIn[15], line 6\u001b[0m\n\u001b[1;32m      4\u001b[0m month \u001b[38;5;241m=\u001b[39m yesterday\u001b[38;5;241m.\u001b[39mstrftime(\u001b[38;5;124m\"\u001b[39m\u001b[38;5;124m%\u001b[39m\u001b[38;5;124mm\u001b[39m\u001b[38;5;124m\"\u001b[39m)\n\u001b[1;32m      5\u001b[0m day \u001b[38;5;241m=\u001b[39m yesterday\u001b[38;5;241m.\u001b[39mstrftime(\u001b[38;5;124m\"\u001b[39m\u001b[38;5;132;01m%d\u001b[39;00m\u001b[38;5;124m\"\u001b[39m)\n\u001b[0;32m----> 6\u001b[0m hour \u001b[38;5;241m=\u001b[39m \u001b[38;5;28mstr\u001b[39m(\u001b[43mhour\u001b[49m)\n\u001b[1;32m      7\u001b[0m minute \u001b[38;5;241m=\u001b[39m \u001b[38;5;28mstr\u001b[39m(minute)\n\u001b[1;32m      8\u001b[0m minute_1 \u001b[38;5;241m=\u001b[39m \u001b[38;5;28mstr\u001b[39m(\u001b[38;5;28mint\u001b[39m(minute)\u001b[38;5;241m+\u001b[39m\u001b[38;5;241m1\u001b[39m)\n",
      "\u001b[0;31mNameError\u001b[0m: name 'hour' is not defined"
     ]
    }
   ],
   "source": [
    "# use the datetime module here (automate)\n",
    "yesterday = datetime.datetime.today() - datetime.timedelta(days=1)\n",
    "year = yesterday.strftime(\"%Y\")\n",
    "month = yesterday.strftime(\"%m\")\n",
    "day = yesterday.strftime(\"%d\")\n",
    "hour = 10\n",
    "minute = 10\n",
    "minute_1 = 15\n",
    "startTime = datetime.datetime.strptime(f'{year}{month}{day}{hour}{minute}', '%Y%m%d%H%M')\n",
    "endTime = datetime.datetime.strptime(f'{year}{month}{day}{hour}{minute_1}', '%Y%m%d%H%M')"
   ]
  },
  {
   "cell_type": "code",
   "execution_count": 11,
   "metadata": {},
   "outputs": [
    {
     "ename": "NameError",
     "evalue": "name 'q' is not defined",
     "output_type": "error",
     "traceback": [
      "\u001b[0;31m---------------------------------------------------------------------------\u001b[0m",
      "\u001b[0;31mNameError\u001b[0m                                 Traceback (most recent call last)",
      "Cell \u001b[0;32mIn[11], line 2\u001b[0m\n\u001b[1;32m      1\u001b[0m tweets \u001b[38;5;241m=\u001b[39m auth\u001b[38;5;241m.\u001b[39msearch_recent_tweets(\n\u001b[0;32m----> 2\u001b[0m     query\u001b[38;5;241m=\u001b[39m\u001b[43mq\u001b[49m, \n\u001b[1;32m      3\u001b[0m     start_time\u001b[38;5;241m=\u001b[39mstartTime, \n\u001b[1;32m      4\u001b[0m     end_time\u001b[38;5;241m=\u001b[39mendTime, \n\u001b[1;32m      5\u001b[0m     max_results\u001b[38;5;241m=\u001b[39m\u001b[38;5;241m100\u001b[39m,\n\u001b[1;32m      6\u001b[0m     expansions\u001b[38;5;241m=\u001b[39m[\u001b[38;5;124m'\u001b[39m\u001b[38;5;124mauthor_id\u001b[39m\u001b[38;5;124m'\u001b[39m, \u001b[38;5;124m'\u001b[39m\u001b[38;5;124mentities.mentions.username\u001b[39m\u001b[38;5;124m'\u001b[39m, \u001b[38;5;124m'\u001b[39m\u001b[38;5;124min_reply_to_user_id\u001b[39m\u001b[38;5;124m'\u001b[39m, \u001b[38;5;124m'\u001b[39m\u001b[38;5;124mreferenced_tweets.id.author_id\u001b[39m\u001b[38;5;124m'\u001b[39m],\n\u001b[1;32m      7\u001b[0m     user_fields\u001b[38;5;241m=\u001b[39m[\u001b[38;5;124m'\u001b[39m\u001b[38;5;124mpublic_metrics\u001b[39m\u001b[38;5;124m'\u001b[39m],\n\u001b[1;32m      8\u001b[0m     tweet_fields\u001b[38;5;241m=\u001b[39m[\u001b[38;5;124m'\u001b[39m\u001b[38;5;124mpublic_metrics\u001b[39m\u001b[38;5;124m'\u001b[39m, \u001b[38;5;124m'\u001b[39m\u001b[38;5;124mcreated_at\u001b[39m\u001b[38;5;124m'\u001b[39m]    \n\u001b[1;32m      9\u001b[0m )\n",
      "\u001b[0;31mNameError\u001b[0m: name 'q' is not defined"
     ]
    }
   ],
   "source": [
    "tweets = auth.search_recent_tweets(\n",
    "    query=q, \n",
    "    start_time=startTime, \n",
    "    end_time=endTime, \n",
    "    max_results=100,\n",
    "    expansions=['author_id', 'entities.mentions.username', 'in_reply_to_user_id', 'referenced_tweets.id.author_id'],\n",
    "    user_fields=['public_metrics'],\n",
    "    tweet_fields=['public_metrics', 'created_at']    \n",
    ")"
   ]
  },
  {
   "cell_type": "code",
   "execution_count": 10,
   "metadata": {},
   "outputs": [
    {
     "ename": "NameError",
     "evalue": "name 'startTime' is not defined",
     "output_type": "error",
     "traceback": [
      "\u001b[0;31m---------------------------------------------------------------------------\u001b[0m",
      "\u001b[0;31mNameError\u001b[0m                                 Traceback (most recent call last)",
      "Cell \u001b[0;32mIn[10], line 1\u001b[0m\n\u001b[0;32m----> 1\u001b[0m \u001b[43mstartTime\u001b[49m\n",
      "\u001b[0;31mNameError\u001b[0m: name 'startTime' is not defined"
     ]
    }
   ],
   "source": [
    "startTime"
   ]
  },
  {
   "cell_type": "code",
   "execution_count": null,
   "metadata": {},
   "outputs": [],
   "source": []
  }
 ],
 "metadata": {
  "kernelspec": {
   "display_name": "twitter",
   "language": "python",
   "name": "twitter"
  },
  "language_info": {
   "codemirror_mode": {
    "name": "ipython",
    "version": 3
   },
   "file_extension": ".py",
   "mimetype": "text/x-python",
   "name": "python",
   "nbconvert_exporter": "python",
   "pygments_lexer": "ipython3",
   "version": "3.9.6"
  }
 },
 "nbformat": 4,
 "nbformat_minor": 4
}
