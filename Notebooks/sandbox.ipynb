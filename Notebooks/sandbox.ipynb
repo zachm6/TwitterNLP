{
 "cells": [
  {
   "cell_type": "markdown",
   "metadata": {},
   "source": [
    "# Automate cleaning tweets to make it suitable for nlp"
   ]
  },
  {
   "cell_type": "code",
   "execution_count": 8,
   "metadata": {},
   "outputs": [],
   "source": [
    "import pandas as pd\n",
    "import preprocessor as p"
   ]
  },
  {
   "cell_type": "code",
   "execution_count": 5,
   "metadata": {},
   "outputs": [],
   "source": [
    "df_old = pd.read_csv(\"../beforePreProcessing_v1.csv\")"
   ]
  },
  {
   "cell_type": "code",
   "execution_count": 3,
   "metadata": {},
   "outputs": [
    {
     "data": {
      "text/plain": [
       "(1027, 12)"
      ]
     },
     "execution_count": 3,
     "metadata": {},
     "output_type": "execute_result"
    }
   ],
   "source": [
    "df.shape"
   ]
  },
  {
   "cell_type": "code",
   "execution_count": 7,
   "metadata": {},
   "outputs": [
    {
     "data": {
      "text/plain": [
       "'Most mentioned symbols (7D):\\n\\n1st $NVDA 91\\n2nd $TSLA 65\\n3rd $AAPL 59\\n4th $AI 58\\n5th $SPY 56\\n6th $QQQ 44\\n7th $MSFT 44\\n8th $SPX 37\\n9th $META 34\\n10th $AMD 32\\nhttps://t.co/KxW3EJLbYD'"
      ]
     },
     "execution_count": 7,
     "metadata": {},
     "output_type": "execute_result"
    }
   ],
   "source": [
    "df_old.iloc[1][\"text\"]"
   ]
  },
  {
   "cell_type": "code",
   "execution_count": 11,
   "metadata": {},
   "outputs": [
    {
     "data": {
      "text/plain": [
       "'Most mentioned symbols (7D):1st $NVDA nd $TSLA rd $AAPL th $AI th $SPY th $QQQ th $MSFT th $SPX th $META th $AMD'"
      ]
     },
     "execution_count": 11,
     "metadata": {},
     "output_type": "execute_result"
    }
   ],
   "source": [
    "p.clean(df_old.iloc[1][\"text\"])"
   ]
  },
  {
   "cell_type": "code",
   "execution_count": 14,
   "metadata": {},
   "outputs": [
    {
     "data": {
      "text/plain": [
       "1     Most mentioned symbols (7D):\\n\\n1st $NVDA 91\\n...\n",
       "2     Most mentioned symbols (7D):\\n\\n1st $NVDA 91\\n...\n",
       "3     Putting $25,000 dollars into this $PSYOP , thi...\n",
       "4     Best trade I made in a long time. Easy play on...\n",
       "5     ALWAYS zoom out the chart to see what’s really...\n",
       "6     Check out our subscriber alerts in our discord...\n",
       "7     Check out our subscriber alerts in our discord...\n",
       "8     Messi's farewell! PSG's era comes to an end as...\n",
       "9     Follow us to get instant updates and free trad...\n",
       "10    Follow us to get instant updates and free trad...\n",
       "11    Discover Microsoft #Cloud for #Healthcare - fr...\n",
       "12    Putting $10,000 dollars into this $PSYOP , thi...\n",
       "13    STOCK TRADING ADVICE FROM OUR FREE TRADING DIS...\n",
       "14    We’re teaming up with Contact Energy to accele...\n",
       "Name: text, dtype: object"
      ]
     },
     "execution_count": 14,
     "metadata": {},
     "output_type": "execute_result"
    }
   ],
   "source": [
    "df_old.iloc[1:15][\"text\"]"
   ]
  },
  {
   "cell_type": "code",
   "execution_count": 15,
   "metadata": {},
   "outputs": [
    {
     "data": {
      "text/plain": [
       "Index(['Unnamed: 0', 'id', 'symbol', 'text', 'start', 'end', 'retweet_count',\n",
       "       'reply_count', 'like_count', 'quote_count', 'impression_count',\n",
       "       'created_at', 'username', 'followers_count', 'following_count',\n",
       "       'tweet_count', 'listed_count'],\n",
       "      dtype='object')"
      ]
     },
     "execution_count": 15,
     "metadata": {},
     "output_type": "execute_result"
    }
   ],
   "source": [
    "df_old.columns"
   ]
  },
  {
   "cell_type": "markdown",
   "metadata": {},
   "source": [
    "## Pagination"
   ]
  },
  {
   "cell_type": "code",
   "execution_count": 13,
   "metadata": {},
   "outputs": [],
   "source": [
    "import tweepy\n",
    "import config\n",
    "import datetime"
   ]
  },
  {
   "cell_type": "code",
   "execution_count": 14,
   "metadata": {},
   "outputs": [],
   "source": [
    "auth = tweepy.Client(\n",
    "    bearer_token=config.BEARER_TOKEN,  \n",
    "    consumer_key=config.API_KEY, \n",
    "    consumer_secret=config.API_KEY_SECRET, \n",
    "    access_token=config.ACCESS_TOKEN, \n",
    "    access_token_secret=config.ACCESS_TOKEN_SECRET\n",
    ")"
   ]
  },
  {
   "cell_type": "code",
   "execution_count": 21,
   "metadata": {},
   "outputs": [],
   "source": [
    "# use the datetime module here (automate)\n",
    "yesterday = datetime.datetime.today() - datetime.timedelta(days=1)\n",
    "year = yesterday.strftime(\"%Y\")\n",
    "month = yesterday.strftime(\"%m\")\n",
    "day = yesterday.strftime(\"%d\")\n",
    "hour = 10\n",
    "minute = 10\n",
    "minute_1 = 15\n",
    "startTime = datetime.datetime.strptime(f'{year}{month}{day}{hour}{minute}', '%Y%m%d%H%M')\n",
    "endTime = datetime.datetime.strptime(f'{year}{month}{day}{hour}{minute_1}', '%Y%m%d%H%M')\n",
    "\n",
    "q = f'TESLA -is:retweet lang:en'\n"
   ]
  },
  {
   "cell_type": "code",
   "execution_count": 22,
   "metadata": {},
   "outputs": [],
   "source": [
    "tweets = auth.search_recent_tweets(\n",
    "    query=q, \n",
    "    start_time=startTime, \n",
    "    end_time=endTime, \n",
    "    max_results=100,\n",
    "    expansions=['author_id', 'entities.mentions.username', 'in_reply_to_user_id', 'referenced_tweets.id.author_id'],\n",
    "    user_fields=['public_metrics'],\n",
    "    tweet_fields=['public_metrics', 'created_at']    \n",
    ")"
   ]
  },
  {
   "cell_type": "code",
   "execution_count": 23,
   "metadata": {},
   "outputs": [
    {
     "data": {
      "text/plain": [
       "Response(data=[<Tweet id=1664938609663782914 text=\"@elonmusk I'd love how we can collaborate and potentially leverage @Tesla's cutting-edge technologies. Are you opět to exploring this opportunity? #FutureOfWork #VirtualEmployees\">, <Tweet id=1664938602214703104 text=\"@Pentosh1 Tesla's $1.5 billion Bitcoin investment is a game-changer for the crypto industry! Will we see more companies follow suit? #Bitcoin #Cryptocurrency 🚀💰  https://t.co/pYTIQUJ2Il\">, <Tweet id=1664938540306939904 text='Schrodinger lives rent free in my head sorry. Tesla Einstein and Schrodinger are my little dysfunctional scientists.'>, <Tweet id=1664938533679767554 text='\"Just caught a glimpse of my future self cruising in my sleek Tesla. The road to success is electric, and I\\'m charging ahead to become a proud Tesla owner! 🚀⚡️ #FutureTeslaOwner #ElectrifiedDreams #DrivingTowardsTheFuture\"'>, <Tweet id=1664938506085445632 text=\"@IwriteOK Y Combinator was founded in 2005. Altman joined them in 2014. \\n'Creator' seems incredibly generous. Much like musk and tesla. \\nWhat bullshit they coat themselves with.\">, <Tweet id=1664938494270242816 text='@bartvanbakel Note that BYD is crushing Tesla on total EV sales and most importantly is growing at a crazy rate! Note the growth figures below. https://t.co/YEeYJFFaG7'>, <Tweet id=1664938401609523200 text='Vaishnav walking around without helmet. What if an iron piece falls on his head? @Iyervval Where is the Chairman of Rail Board ? @elonmusk Musk can get us best safety tech @Tesla https://t.co/Uzr9PVD4hQ'>, <Tweet id=1664938279991660544 text='@elonmusk yes this is my name mr tesla'>, <Tweet id=1664938277512835072 text=\"https://t.co/4MtvaqzLUO As Elon Musk's net worth soars, Tesla stock reaches its highest point in four months.\">, <Tweet id=1664938275633504256 text='Rumours of Tesla Model 3 revamp reveal die out as Musk ends China trip https://t.co/KKaxYq9Flk https://t.co/BbehaEUtpY'>, <Tweet id=1664938273670836224 text='@wedel_doug @YuvakarthikK @ancientgays @Tesla @elonmusk Lol joke of the century'>, <Tweet id=1664938256604049409 text='@elonmusk Are there late shifts at Tesla China because you are hosting late night meetings?'>, <Tweet id=1664938223926124544 text='@Tslachan @ohmahahm @elonmusk @Tesla @Berlinergy With our daily profitable signals, you can earn up to 90% - 1000% returns on daily trading on spot and futures.\\n If you want to join our free channel in Telegram, click on \\nhttps://t.co/bhgw0KFKOU'>, <Tweet id=1664938170180329472 text='@Adam_and_EVs Yes this is obvious and not a concern at all.\\nOf course Tesla WILL see it’s market share drop as the market for BEV’s grows exponentially!\\n\\nEven if it halves in the next decade to 10% but the BEV share of total car sales grows from 10% to 50% $TSLA will be doing just fine.\\n\\n It’s… https://t.co/5MylIMBFs2'>, <Tweet id=1664938126970593281 text='@DriveTeslaca @Tesla Will they steal your credit like they did to Rich Rebuilds?'>, <Tweet id=1664938094565421058 text=\"@DillonLoomis22 I'm just a Tesla M3 owner, but I'm participating in the Alexandria Virginia EV Showcase tomorrow. Herbie &amp; I will be answering questions. He will give a short talk using the external speaker. This is him rehearsing.😁 https://t.co/6ZcQbOH3gx\">, <Tweet id=1664937813102477313 text='@TedLogan1010 @BillSEsquire_11 @No_Curve @Death6102 @elonmusk will soon be destroyed alongside @tesla.\\nI suppose they will start with something related with @Twitter (Their new Titanic) and use one large iceberg (Epstein list) and then use the sea(China) to drown (social media bans) everyone who oppose them (J. BIDEN 2024).'>, <Tweet id=1664937714649640960 text='@Benditnan @WholeMarsBlog @Tesla Not for Tesla insurance.\\nThat entire section of the article seems to have re-directed from talking about Tesla insurance. to \"the insurance industry\".\\n\"The insurance industry is still figuring out where to place liability in incidents involving self-driving vehicles.\"… https://t.co/LRr8cx0zjD'>, <Tweet id=1664937695649607680 text='Not a surprise, when I used to work at TESLA they wouldn’t honor my pronouns nor my preferred name because it wasn’t legally changed at the time. Yet tesla is the “top lgbt allied company” suck my nuts elon https://t.co/rykjEAuawB'>, <Tweet id=1664937687617290240 text='@elonmusk @historyinmemes Tesla king'>, <Tweet id=1664937575369306114 text='@TonyadeVitti @kerrikgray @dvorahfr @foxxpup @SweetSirenDream @linda_ungureanu @aliciatoralll @helloitstanya98 @gabbie_tesla @billybumbler2 @BogusThought More Like having sex'>, <Tweet id=1664937521761976320 text='12.1 \" Android Car Radio Player For Lexus LS460 LS400 2006 - 2012 Tesla Screen GPS Navigation Video Multimedia 2 Din U9Q4O8D\\n\\nhttps://t.co/x3ASQaf8CI https://t.co/vBtkv6yqQx'>, <Tweet id=1664937507065135104 text='@elonmusk please try to buy a Tesla in Romania. \\nSee how it goes. \\nYou will think twice before ever trying to purchase a new one again.\\nPlease repost this to see if someone there will try to do that\\n#Romania\\n#Tesla'>], includes={'users': [<User id=1308013884968759297 name=Lukáš Olejár username=OlejarLukas>, <User id=44196397 name=Elon Musk username=elonmusk>, <User id=13298072 name=Tesla username=Tesla>, <User id=1642997434472095745 name=Zorine Maegan username=ZorineM47667>, <User id=1138993163706753029 name=Pentoshi 🐧 euroPeng 🇪🇺 username=Pentosh1>, <User id=1505894118207197192 name=Dr. Tesla 🎀 username=PatchesProblem>, <User id=1498156476107427840 name=hi my name is Jill (ជីលៀ ហ្គាសៀ) username=himmynameisJill>, <User id=2556122729 name=bru.ib username=GreatGrate>, <User id=137395584 name=Robert Evans (The Only Robert Evans) username=IwriteOK>, <User id=1643725349644283907 name=Adam Warden 🌐 username=Adam_and_EVs>, <User id=55661859 name=Bart van Bakel username=bartvanbakel>, <User id=1953457680 name=Dr Pentapati Pullarao username=PentapatiPullar>, <User id=1963945884 name=Abhijit Iyer-Mitra username=Iyervval>, <User id=2289824455 name=PallaviCT username=pallavict>, <User id=293482149 name=Abhishek username=xgamerabhishek>, <User id=1664001745549406208 name=NY postnow username=NyPostnow>, <User id=1158330589650608128 name=SponEndCov username=SponEndCov>, <User id=1594664521167257601 name=hks992 username=captainhks992>, <User id=1603082386589327360 name=Doug Wedel username=wedel_doug>, <User id=1151526048112103424 name=Yuvakarthik Koduri username=YuvakarthikK>, <User id=1323331590764724225 name=Appy~// BE GAY DO CRIME ❤️‍🔥🚩 username=ancientgays>, <User id=1404451516342312967 name=Lessons From Light username=LessonsLight>, <User id=994201551009792000 name=jeon username=spitefuvl>, <User id=1319558110827040768 name=Tsla Chan username=Tslachan>, <User id=955192716 name=Oh Hahm Ma *⃣ username=ohmahahm>, <User id=1305028419214815232 name=Berlinergy username=Berlinergy>, <User id=1048500276 name=Allen Baylus username=allenbaylus>, <User id=1169348503975317504 name=Drive Tesla 🇨🇦 username=DriveTeslaca>, <User id=18912556 name=Russ Adams 🌧️🌬️☀️🌡️🌨️🦃 username=patpend>, <User id=767498349931028480 name=Dillon Loomis username=DillonLoomis22>, <User id=1609146060781264899 name=Man In The Loop username=ManInTheLoop>, <User id=1623836470728355844 name=Ted Theodore Logan username=TedLogan1010>, <User id=1623851702188212224 name=Bill S. Esquire username=BillSEsquire_11>, <User id=1656340115818463237 name=Rufus_2688 username=No_Curve>, <User id=1662215715556847616 name=Death username=Death6102>, <User id=783214 name=Twitter username=Twitter>, <User id=1491063055177891840 name=Ed Howard username=HowardModels>, <User id=174445046 name=Nan username=Benditnan>, <User id=1263491240336769026 name=Whole Mars Catalog username=WholeMarsBlog>, <User id=61370347 name=𝔡𝔞𝔳𝔦𝔡 𝔧𝔞𝔪𝔢𝔰 username=djvmes>, <User id=1115826452715511809 name=Erin Reed username=ErinInTheMorn>, <User id=1359895016638939137 name=stainless 👀MF💀 username=evoukeh>, <User id=855481986290524160 name=Historic Vids username=historyinmemes>, <User id=1479816788414185473 name=Lucio De Lai username=lx205_RH>, <User id=1455607795760443395 name=Tonya de Vitti username=TonyadeVitti>, <User id=723149718910464001 name=Kerri Gray username=kerrikgray>, <User id=2178040394 name=Déborah username=dvorahfr>, <User id=45899961 name=Foxpup username=foxxpup>, <User id=1553415212769783808 name=Edith Del Carmen username=SweetSirenDream>, <User id=1486305833646497793 name=Linda 🚀Claudius Nero’s Legion 🐺 username=linda_ungureanu>, <User id=50154471 name=Alicia Toral username=aliciatoralll>, <User id=1503798622307205121 name=Tetiana 💫 Claudius Nero's Legion 🐺 username=helloitstanya98>, <User id=3246951594 name=Gabbie Stephanie ✨The Dogenie ✨ username=gabbie_tesla>, <User id=1415955980354035712 name=billy bumbler, old-ish fella. kind heart (bear) username=billybumbler2>, <User id=1266489338675646464 name=BogusThought - get checkmark or die tryin 😂 username=BogusThought>, <User id=1582017605463851008 name=Tracey.WizaASPmI username=wizaaspmi>, <User id=1498276253220098050 name=Struc Razvan username=RazvanStruc>], 'tweets': [<Tweet id=1664446579917438977 text='https://t.co/RCDMTRr0xt'>, <Tweet id=1664938001234026497 text=\"Though one thing that's interesting is how she still didn't want to hurt Einstein even when she was corrupted.. She was only after Welt and she didn't want to hurt her needlessly iirc. Because she could've Easily broke that shield and she mentioned it herself.\">, <Tweet id=1664899226734657536 text='my favorite thing about Sam Altman is that he is going to die, absolutely and irrevocably. he will not live on in any form. lmao, fucker. https://t.co/H02ZGhwnal'>, <Tweet id=1664905754950680577 text='@Adam_and_EVs Lol!\\n\\nThe usual Cherry-picking of data from 1 country does not show the whole picture.\\n\\nThis graph clearly shows Tesla continues to grow it’s market share of total global car sales, while “the competition is coming”\\n\\nI think it’s good news BTW that brands like Polestar and MG are… https://t.co/t5VvlJ5maV https://t.co/RrAkuIxYLc'>, <Tweet id=1664883397070561282 text='OMG\\n\\n#OdishaTrainTragedy - what a horror \\n\\nPray 🙏🙏for the souls of those departed; &amp; early recovery of those in hospital\\n\\nIs it an ACCIDENT or a SABOTAGE?\\n\\nAap chronology samajh lo 👇🏻👇🏻\\n\\nJust recently, @AshwiniVaishnaw ji Railways Min Ashwini Vaishnav ji gave presentation on… https://t.co/o4uMLg6csA https://t.co/E9UZMI7sUy'>, <Tweet id=1664627982638407687 text='X'>, <Tweet id=1664930956816334848 text=\"@YuvakarthikK @ancientgays @Tesla @elonmusk Tesla's cars all rank highest ever recorded for safety. And efficiency.\\n\\nHow is the situation with trains currently?\">, <Tweet id=1664330279257767936 text='Lil X just asked if there are police cats, since there are police dogs 😂'>, <Tweet id=1664933180309229568 text='$TSLA @elonmusk \\n🇺🇸This data table shows the price trend of Model 3/Y vehicles with tax credit starting in 2023.\\n\\n• When applying the credit, the current Model 3 RWD/LR price is the cheapest this year.\\n\\n• The vehicle will now receive a full credit ($7,500) https://t.co/Zviqx9Oc7K'>, <Tweet id=1664935977524002816 text='@bartvanbakel For context, Tesla is losing market share in the BEV market. This was its domain! https://t.co/02iXglS8pU'>, <Tweet id=1664863817606770689 text='BREAKING: @Tesla has updated their referral program rewards. \\n\\nIf you refer someone who buys a Model S/X, you now get 20,000 credits (previously 3,500). Model 3/Y remains the same at 2,000 credits. \\n\\nIf you use someone’s referral code, you now get $1,300 off the price of a Model… https://t.co/NJYp6SYnAT https://t.co/azZ86lHAKy'>, <Tweet id=1664735162729480195 text='History is a set of lies agreed upon https://t.co/kDpE9Bvwxa'>, <Tweet id=1664927806583902208 text='@WholeMarsBlog Hi @WholeMarsBlog @Tesla Based on this article, it says that using autopilot increases tesla insurance premiums.    This is not true, is it?   Tesla Insurance Review - Money\\nhttps://t.co/hkpyuK6D9b'>, <Tweet id=1664629012663001089 text='Elon Musk is actively calling for imprisoning healthcare professionals and therapists for providing care to trans youth that has been proven to lower their suicide rates by 73%.\\n\\nHe also has declared he will lobby against their care politically.\\n\\nEvery dime you give him hurts us. https://t.co/ngAKV8ycdh'>, <Tweet id=1664852742907609092 text='@historyinmemes He was incredible. Queen biopic is highly recommended.'>, <Tweet id=1664934566396559361 text='The proof certain things have never been easy!! 🔥🔥 https://t.co/FT0TimrIV0'>]}, errors=[], meta={'newest_id': '1664938609663782914', 'oldest_id': '1664937507065135104', 'result_count': 23})"
      ]
     },
     "execution_count": 23,
     "metadata": {},
     "output_type": "execute_result"
    }
   ],
   "source": [
    "tweets"
   ]
  },
  {
   "cell_type": "code",
   "execution_count": null,
   "metadata": {},
   "outputs": [],
   "source": []
  }
 ],
 "metadata": {
  "kernelspec": {
   "display_name": "twitter",
   "language": "python",
   "name": "twitter"
  },
  "language_info": {
   "codemirror_mode": {
    "name": "ipython",
    "version": 3
   },
   "file_extension": ".py",
   "mimetype": "text/x-python",
   "name": "python",
   "nbconvert_exporter": "python",
   "pygments_lexer": "ipython3",
   "version": "3.9.6"
  }
 },
 "nbformat": 4,
 "nbformat_minor": 4
}
